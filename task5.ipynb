{
 "cells": [
  {
   "cell_type": "markdown",
   "metadata": {},
   "source": [
    "# TASK5"
   ]
  },
  {
   "cell_type": "markdown",
   "metadata": {},
   "source": [
    " 模型融合是比赛后期上分的重要手段，特别是多人组队学习的比赛中，将不同队友的模型进行融合，可能会收获意想不到的效果哦，往往模型相差越大且模型表现都不错的前提下，模型融合后结果会有大幅提升，以下是模型融合的方式。\n",
    "\n",
    "平均：\n",
    "简单平均法\n",
    "\n",
    "加权平均法\n",
    "\n",
    "投票：\n",
    "简单投票法\n",
    "\n",
    "加权投票法\n",
    "\n",
    "综合：\n",
    "排序融合\n",
    "\n",
    "log融合\n",
    "\n",
    "stacking:\n",
    "\n",
    "构建多层模型，并利用预测结果再拟合预测。\n",
    "\n",
    "blending：\n",
    "\n",
    "选取部分数据预测训练得到预测结果作为新特征，带入剩下的数据中预测。\n",
    "boosting/bagging\n"
   ]
  },
  {
   "cell_type": "markdown",
   "metadata": {},
   "source": [
    "stacking 将若干基学习器获得的预测结果，将预测结果作为新的训练集来训练一个学习器。如下图 假设有五个基学习器，将数据带入五基学习器中得到预测结果，再带入模型六中进行训练预测。但是由于直接由五个基学习器获得结果直接带入模型六中，容易导致过拟合。所以在使用五个及模型进行预测的时候，可以考虑使用K折验证，防止过拟合。\n",
    "stacking.png\n",
    "\n",
    "blending 与stacking不同，blending是将预测的值作为新的特征和原特征合并，构成新的特征值，用于预测。为了防止过拟合，将数据分为两部分d1、d2，使用d1的数据作为训练集，d2数据作为测试集。预测得到的数据作为新特征使用d2的数据作为训练集结合新特征，预测测试集结果。\n",
    "blending.png\n",
    "\n",
    "Blending与stacking的不同\n",
    "stacking\n",
    "stacking中由于两层使用的数据不同，所以可以避免信息泄露的问题。\n",
    "在组队竞赛的过程中，不需要给队友分享自己的随机种子。\n",
    "Blending\n",
    "由于blending对将数据划分为两个部分，在最后预测时有部分数据信息将被忽略。\n",
    "同时在使用第二层数据时可能会因为第二层数据较少产生过拟合现象。"
   ]
  },
  {
   "cell_type": "code",
   "execution_count": null,
   "metadata": {},
   "outputs": [],
   "source": []
  }
 ],
 "metadata": {
  "kernelspec": {
   "display_name": "Python 3",
   "language": "python",
   "name": "python3"
  },
  "language_info": {
   "codemirror_mode": {
    "name": "ipython",
    "version": 3
   },
   "file_extension": ".py",
   "mimetype": "text/x-python",
   "name": "python",
   "nbconvert_exporter": "python",
   "pygments_lexer": "ipython3",
   "version": "3.7.4"
  }
 },
 "nbformat": 4,
 "nbformat_minor": 2
}
