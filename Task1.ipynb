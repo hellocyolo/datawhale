{
 "cells": [
  {
   "cell_type": "code",
   "execution_count": 1,
   "metadata": {
    "scrolled": true
   },
   "outputs": [],
   "source": [
    "import pandas as pd"
   ]
  },
  {
   "cell_type": "markdown",
   "metadata": {},
   "source": [
    "Task1: Understand the Misson\n",
    "-根据个人信贷记录，建立风险评估模型，预测违约风险。"
   ]
  },
  {
   "cell_type": "code",
   "execution_count": 2,
   "metadata": {},
   "outputs": [],
   "source": [
    "#import data\n",
    "train_url='http://aliyuntianchiresult.cn-hangzhou.oss.aliyun-inc.com/file/race/documents/531830/train.csv?Expires=1599954909&OSSAccessKeyId=LTAILBoOl5drlflK&Signature=tu3%2F%2FkRQzmC%2BFvVx2Zezu%2FoIzpI%3D&response-content-disposition=attachment%3B%20'\n",
    "testA_url='http://aliyuntianchiresult.cn-hangzhou.oss.aliyun-inc.com/file/race/documents/531830/testA.csv?Expires=1599955258&OSSAccessKeyId=LTAILBoOl5drlflK&Signature=O25NvtTQu0Onw6eVIBeWYvByqlk%3D&response-content-disposition=attachment%3B%20'"
   ]
  },
  {
   "cell_type": "markdown",
   "metadata": {},
   "source": [
    "testA=pd.read_csv(testA_url)\n",
    "train=pd.read_csv(train_url)"
   ]
  },
  {
   "cell_type": "markdown",
   "metadata": {},
   "source": [
    "2.评判指标"
   ]
  },
  {
   "cell_type": "markdown",
   "metadata": {},
   "source": [
    "使用Confuse Matrix进行判断"
   ]
  },
  {
   "cell_type": "markdown",
   "metadata": {},
   "source": [
    "分类： True Positive : 实例为正，预测为正；"
   ]
  },
  {
   "cell_type": "markdown",
   "metadata": {},
   "source": [
    "      False Negative: 实例为正，预测为负；"
   ]
  },
  {
   "cell_type": "markdown",
   "metadata": {},
   "source": [
    "      False Positive: 实例为负，预测为正；"
   ]
  },
  {
   "cell_type": "markdown",
   "metadata": {},
   "source": [
    "      True Negative: 实例为负，预测为负；"
   ]
  },
  {
   "cell_type": "markdown",
   "metadata": {},
   "source": [
    "分类算法评估指标：\n",
    "\n",
    "-准确率 Accuracy:\n",
    "    准确率是常用的一个评价指标，但是不适合样本不均衡的情况。 $$Accuracy = \\frac{TP + TN}{TP + TN + FP + FN}$$\n",
    "-精确率（Precision） 又称查准率：\n",
    "    正确预测为正样本（TP）占预测为正样本(TP+FP)的百分比。 $$Precision = \\frac{TP}{TP + FP}$$\n",
    "-召回率（Recall） 又称为查全率：\n",
    "    正确预测为正样本（TP）占正样本(TP+FN)的百分比。 $$Recall = \\frac{TP}{TP + FN}$$\n",
    "*F1 Score 精确率和召回率是相互影响的，精确率升高则召回率下降，召回率升高则精确率下降，如果需要兼顾二者，就需要精确率、召回率的结合F1 Score。 $$F1-Score = \\frac{2}{\\frac{1}{Precision} + \\frac{1}{Recall}}$$\n",
    "\n"
   ]
  },
  {
   "cell_type": "markdown",
   "metadata": {},
   "source": [
    "-P-R曲线（Precision-Recall Curve） P-R曲线是描述精确率和召回率变化的曲线\n",
    "\n",
    "-ROC（Receiver Operating Characteristic）\n",
    "\n",
    "ROC空间将假正例率（FPR）定义为 X 轴，真正例率（TPR）定义为 Y 轴。\n",
    "TPR：在所有实际为正例的样本中，被正确地判断为正例之比率。 $$TPR = \\frac{TP}{TP + FN}$$ FPR：在所有实际为负例的样本中，被错误地判断为正例之比率。 $$FPR = \\frac{FP}{FP + TN}$$\n",
    "\n",
    "-AUC(Area Under Curve) AUC（Area Under Curve）被定义为 ROC曲线 下与坐标轴围成的面积，显然这个面积的数值不会大于1。又由于ROC曲线一般都处于y=x这条直线的上方，所以AUC的取值范围在0.5和1之间。AUC越接近1.0，检测方法真实性越高;等于0.5时，则真实性最低，无应用价值。"
   ]
  },
  {
   "cell_type": "markdown",
   "metadata": {},
   "source": [
    "金融风控预测类常用指标：\n",
    "-KS(Kolmogorov-Smirnov) KS统计量\n",
    "在风控中，KS常用于评估模型区分度。区分度越大，说明模型的风险排序能力（ranking ability）越强。 K-S曲线与ROC曲线类似，不同在于\n",
    "\n",
    "ROC曲线将真正例率和假正例率作为横纵轴\n",
    "K-S曲线将真正例率和假正例率都作为纵轴，横轴则由选定的阈值来充当。 公式如下： $$KS=max(TPR-FPR)$$ KS不同代表的不同情况，一般情况KS值越大，模型的区分能力越强，但是也不是越大模型效果就越好，如果KS过大，模型可能存在异常，所以当KS值过高可能需要检查模型是否过拟合。以下为KS值对应的模型情况，但此对应不是唯一的，只代表大致趋势。\n",
    "\n",
    "分数在20以下，不建议采用；50以上则为很强（75以上，可能存在问题）。\n",
    "-ROC\n",
    "\n",
    "-AUC\n"
   ]
  },
  {
   "cell_type": "code",
   "execution_count": null,
   "metadata": {},
   "outputs": [],
   "source": []
  }
 ],
 "metadata": {
  "kernelspec": {
   "display_name": "Python 3",
   "language": "python",
   "name": "python3"
  },
  "language_info": {
   "codemirror_mode": {
    "name": "ipython",
    "version": 3
   },
   "file_extension": ".py",
   "mimetype": "text/x-python",
   "name": "python",
   "nbconvert_exporter": "python",
   "pygments_lexer": "ipython3",
   "version": "3.7.4"
  }
 },
 "nbformat": 4,
 "nbformat_minor": 2
}
